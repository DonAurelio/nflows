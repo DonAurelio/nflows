{
 "cells": [
  {
   "cell_type": "code",
   "execution_count": 2,
   "id": "7eb6fe2a-1b94-4165-a403-f34bf8e16ecc",
   "metadata": {},
   "outputs": [
    {
     "name": "stdout",
     "output_type": "stream",
     "text": [
      "      data_item task_name cpu_node mem_node access_type\n",
      "0  Task1->Task3     Task1        0        0       write\n",
      "1  Task1->Task2     Task1        0        0       write\n",
      "2  Task1->Task2     Task2        1        0        read\n",
      "3  Task1->Task2     Task2        1        1        read\n",
      "4  Task1->Task3     Task3        0        0        read\n"
     ]
    }
   ],
   "source": [
    "import yaml\n",
    "import pandas as pd\n",
    "\n",
    "document = \"\"\"\n",
    "comm_name_to_numa_id_write:\n",
    "  Task1->Task3: NUMA IDs = 0 \n",
    "  Task1->Task2: NUMA IDs = 0 \n",
    "\n",
    "comm_name_to_numa_id_read:\n",
    "  Task1->Task2: NUMA IDs = 0 1 \n",
    "  Task1->Task3: NUMA IDs = 0 \n",
    "\n",
    "exec_name_to_locality:\n",
    "  Task2: NUMA ID = 1, Core ID = 47, Voluntary CS = 8, Involuntary CS = 25, Core Migrations = 0\n",
    "  Task3: NUMA ID = 0, Core ID = 0, Voluntary CS = 1, Involuntary CS = 89, Core Migrations = 0\n",
    "  Task1: NUMA ID = 0, Core ID = 0, Voluntary CS = 1, Involuntary CS = 50, Core Migrations = 0\n",
    "\"\"\"\n",
    "\n",
    "# print(yaml.dump(yaml.load(document, Loader=yaml.FullLoader), default_flow_style=False, allow_unicode=True, indent=4))\n",
    "\n",
    "data = yaml.load(document, Loader=yaml.FullLoader)\n",
    "\n",
    "# Extract relevant data\n",
    "exec_name_to_locality = data[\"exec_name_to_locality\"]\n",
    "comm_name_to_numa_id_write = data[\"comm_name_to_numa_id_write\"]\n",
    "comm_name_to_numa_id_read = data[\"comm_name_to_numa_id_read\"]\n",
    "\n",
    "# Initialize an empty list to store rows for the DataFrame\n",
    "rows = []\n",
    "\n",
    "# Helper function to process operations\n",
    "def process_access(data_item, task_name, cpu_node, mem_nodes, access_type):\n",
    "    for mem_node in mem_nodes:\n",
    "        rows.append([data_item, task_name, cpu_node, mem_node, access_type])\n",
    "\n",
    "# Process write access operations from comm_name_to_numa_id_write\n",
    "for comm_name, numa_ids in comm_name_to_numa_id_write.items():\n",
    "    mem_nodes = numa_ids.split(\"NUMA IDs = \")[1].strip().split()\n",
    "    for task_name, locality in exec_name_to_locality.items():\n",
    "        cpu_node = locality.split(\"NUMA ID = \")[1].split(\",\")[0].strip()\n",
    "        if task_name in comm_name:\n",
    "            if comm_name.split(\"->\")[0] == task_name:  # Write access (task_name on the left)\n",
    "                process_access(comm_name, task_name, cpu_node, mem_nodes, \"write\")\n",
    "\n",
    "# Process read access operations from comm_name_to_numa_id_read\n",
    "for comm_name, numa_ids in comm_name_to_numa_id_read.items():\n",
    "    mem_nodes = numa_ids.split(\"NUMA IDs = \")[1].strip().split()\n",
    "    for task_name, locality in exec_name_to_locality.items():\n",
    "        cpu_node = locality.split(\"NUMA ID = \")[1].split(\",\")[0].strip()\n",
    "        if task_name in comm_name:\n",
    "            if comm_name.split(\"->\")[1] == task_name:  # Read access (task_name on the right)\n",
    "                process_access(comm_name, task_name, cpu_node, mem_nodes, \"read\")\n",
    "\n",
    "# Create a DataFrame\n",
    "df = pd.DataFrame(rows, columns=[\"data_item\", \"task_name\", \"cpu_node\", \"mem_node\", \"access_type\"])\n",
    "\n",
    "# Display the DataFrame\n",
    "print(df)"
   ]
  }
 ],
 "metadata": {
  "kernelspec": {
   "display_name": "Python 3 (ipykernel)",
   "language": "python",
   "name": "python3"
  },
  "language_info": {
   "codemirror_mode": {
    "name": "ipython",
    "version": 3
   },
   "file_extension": ".py",
   "mimetype": "text/x-python",
   "name": "python",
   "nbconvert_exporter": "python",
   "pygments_lexer": "ipython3",
   "version": "3.11.5"
  }
 },
 "nbformat": 4,
 "nbformat_minor": 5
}
